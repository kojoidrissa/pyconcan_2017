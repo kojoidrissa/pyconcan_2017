{
 "cells": [
  {
   "cell_type": "code",
   "execution_count": 3,
   "metadata": {
    "collapsed": true
   },
   "outputs": [],
   "source": [
    "# %load 1_loading.py\n",
    "import openpyxl\n",
    "from openpyxl import Workbook\n",
    "\n",
    "# get workbook object; the data_only option captures the current value of any formulae\n",
    "# Your file should be in the same directory as this code, OR you need to provide the FULL path to that file, not just it's name\n",
    "wb = openpyxl.load_workbook('pyxl_demo_pyconcan.xlsx', data_only= True)\n",
    "\n",
    "# WB -> WS -> Cell\n",
    "demo_worksheet = wb.get_sheet_by_name(\"clean_data\")"
   ]
  },
  {
   "cell_type": "code",
   "execution_count": 4,
   "metadata": {
    "collapsed": true
   },
   "outputs": [],
   "source": [
    "# %load 2_get_sheet.py\n",
    "# I moved this code to 1_loading.py and was too lazy to renumber"
   ]
  },
  {
   "cell_type": "code",
   "execution_count": 5,
   "metadata": {
    "collapsed": true
   },
   "outputs": [],
   "source": [
    "# %load 3_get_employee_list_for_loop.py\n",
    "employee_ids = set()\n",
    "for row in demo_worksheet.rows:\n",
    "    if row[0].value != 'employee_num':\n",
    "        employee_ids.add(row[0].value)"
   ]
  },
  {
   "cell_type": "code",
   "execution_count": 6,
   "metadata": {
    "collapsed": true
   },
   "outputs": [],
   "source": [
    "# %load 4_create_employee_dictionary.py\n",
    "employee_aggregate = {}\n",
    "for employee in employee_ids:\n",
    "    # list comprehension: I'll want to sum the hours later\n",
    "    hours = [row[6].value for row in demo_worksheet.rows if employee == row[0].value]\n",
    "    # set comprehension: each employee should belong to only ONE cost center\n",
    "    cost_center = {row[1].value for row in demo_worksheet.rows if employee == row[0].value}\n",
    "    division = {str(row[2].value) for row in demo_worksheet.rows if employee == row[0].value}\n",
    "    manager = {row[3].value for row in demo_worksheet.rows if employee == row[0].value}\n",
    "    \n",
    "    assert len(cost_center) == len(division) == len(manager) == 1\n",
    "    \n",
    "    employee_aggregate[employee]={\n",
    "        \"hours\": sum(hours),\n",
    "        \"cost_center\": list(cost_center)[0],\n",
    "        \"division\": list(division)[0],\n",
    "        \"manager\": list(manager)[0]\n",
    "    }"
   ]
  },
  {
   "cell_type": "code",
   "execution_count": 7,
   "metadata": {
    "collapsed": true
   },
   "outputs": [],
   "source": [
    "# %load 5_create_output_spreadsheet.py\n",
    "# Create output workbook, then output worksheet\n",
    "output_book = Workbook() #OpenPyXL object\n",
    "output_sheet = output_book.create_sheet(\"Aggregate Time\",0)\n",
    "\n",
    "# Building the Output Header: Specific Cell References\n",
    "header = [\n",
    "    demo_worksheet[\"A1\"].value,\n",
    "    demo_worksheet[\"B1\"].value,\n",
    "    demo_worksheet[\"C1\"].value,\n",
    "    demo_worksheet[\"D1\"].value,\n",
    "    demo_worksheet[\"G1\"].value\n",
    "]\n",
    "\n",
    "# Create output data construct & append header \n",
    "output_data = []\n",
    "output_data.append(header)\n",
    "\n",
    "# Building new rows, then appending them to output data construct\n",
    "for employee in employee_aggregate: #iterating over dictionary keys\n",
    "    new_row = []\n",
    "    new_row.append(employee)\n",
    "    new_row.append(employee_aggregate[employee]['cost_center'])\n",
    "    new_row.append(employee_aggregate[employee]['division'])\n",
    "    new_row.append(employee_aggregate[employee]['manager'])\n",
    "    new_row.append(employee_aggregate[employee]['hours'])\n",
    "    output_data.append(new_row)\n"
   ]
  },
  {
   "cell_type": "code",
   "execution_count": 8,
   "metadata": {
    "collapsed": true
   },
   "outputs": [],
   "source": [
    "# %load 6_write_data_to_workbook.py\n",
    "# Write data to sheet object\n",
    "for row in output_data:\n",
    "    rowIn = output_data.index(row)\n",
    "    for col in range(len(output_data[0])):\n",
    "        # Adding 1 because spreadsheets count from 1, not 0\n",
    "        output_sheet.cell(row = rowIn+1, column = col+1).value = output_data[rowIn][col]\n",
    "\n",
    "# You don't have an actual spreadsheet until you do this\n",
    "output_book.save (filename = \"done_pyconcan.xlsx\")"
   ]
  },
  {
   "cell_type": "code",
   "execution_count": 9,
   "metadata": {
    "collapsed": true
   },
   "outputs": [],
   "source": [
    "# %load 7_create_json_object.py\n",
    "# Yes, this import is normally done earlier\n",
    "import json\n",
    "with open(\"aggregate_time.json\", 'w') as f:\n",
    "    json.dump(employee_aggregate, f, sort_keys=True, indent=4)"
   ]
  },
  {
   "cell_type": "code",
   "execution_count": null,
   "metadata": {
    "collapsed": true
   },
   "outputs": [],
   "source": []
  }
 ],
 "metadata": {
  "kernelspec": {
   "display_name": "Python 3",
   "language": "python",
   "name": "python3"
  },
  "language_info": {
   "codemirror_mode": {
    "name": "ipython",
    "version": 3
   },
   "file_extension": ".py",
   "mimetype": "text/x-python",
   "name": "python",
   "nbconvert_exporter": "python",
   "pygments_lexer": "ipython3",
   "version": "3.6.1"
  }
 },
 "nbformat": 4,
 "nbformat_minor": 2
}
